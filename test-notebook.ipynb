{
  "cells": [
    {
      "cell_type": "markdown",
      "metadata": {},
      "source": [
        "# Data Visualization Renderer Test\n",
        "\n",
        "This notebook demonstrates the custom MIME renderer for `application/sagemaker-display`."
      ]
    },
    {
      "cell_type": "code",
      "execution_count": null,
      "metadata": {},
      "outputs": [
        {
          "data": {
            "application/sagemaker-display": {
              "type": "cell",
              "kernel_id": "test-kernel-123",
              "interface_id": "viz-001",
              "connection_name": "test-connection",
              "original_size": 1024,
              "data_str": "{\"x\": [1, 2, 3, 4], \"y\": [10, 20, 30, 40]}",
              "metadata_str": "{\"title\": \"Sample Chart\"}",
              "summary_schema_str": "{\"columns\": 2, \"rows\": 4}",
              "column_schema_str_dict": {
                "x": "{\"type\": \"numeric\"}",
                "y": "{\"type\": \"numeric\"}"
              },
              "echart_data_str_dict": {
                "chart1": {
                  "series": {
                    "data": "[{\"name\": \"Series 1\", \"data\": [[1,10],[2,20],[3,30],[4,40]]}]"
                  }
                }
              }
            }
          },
          "execution_count": 1,
          "metadata": {},
          "output_type": "execute_result"
        }
      ],
      "source": [
        "# This cell would typically contain Python code that generates\n# data visualization output with the custom MIME type\nprint(\"Data visualization will appear below\")"
      ]
    },
    {
      "cell_type": "code",
      "execution_count": null,
      "metadata": {},
      "outputs": [
        {
          "data": {
            "application/sagemaker-display": {
              "type": "s3",
              "kernel_id": "test-kernel-123",
              "interface_id": "viz-002",
              "connection_name": "s3-connection",
              "original_size": 2048,
              "s3_path": "s3://my-bucket/data/visualization.json",
              "s3_size": 1500
            }
          },
          "execution_count": 2,
          "metadata": {},
          "output_type": "execute_result"
        }
      ],
      "source": [
        "# Example of S3-based data visualization\nprint(\"S3-based visualization will appear below\")"
      ]
    }
  ],
  "metadata": {
    "kernelspec": {
      "display_name": "Python 3",
      "language": "python",
      "name": "python3"
    },
    "language_info": {
      "name": "python",
      "version": "3.8.0"
    }
  },
  "nbformat": 4,
  "nbformat_minor": 4
}